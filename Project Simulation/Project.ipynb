{
 "cells": [
  {
   "cell_type": "code",
   "execution_count": 1,
   "id": "7151eb11",
   "metadata": {},
   "outputs": [],
   "source": [
    "import csv\n",
    "import requests\n",
    "\n",
    "# replace the \"demo\" apikey below with your own key from https://www.alphavantage.co/support/#api-key\n",
    "CSV_URL = 'https://www.alphavantage.co/query?function=TIME_SERIES_INTRADAY_EXTENDED&symbol=IBM&interval=15min&slice=year1month1&apikey=4KRSSGN8IWNU8IBV'\n",
    "\n",
    "with requests.Session() as s:\n",
    "    download = s.get(CSV_URL)\n",
    "    decoded_content = download.content.decode('utf-8')\n",
    "    cr = csv.reader(decoded_content.splitlines(), delimiter=',')\n",
    "    my_list = list(cr)\n",
    "    csv_file= open('/home/amit/data.csv', 'w')\n",
    "    csv_writer = csv.writer(csv_file, delimiter=\",\")\n",
    "    for row in my_list:\n",
    "        csv_writer.writerow(row)"
   ]
  },
  {
   "cell_type": "code",
   "execution_count": null,
   "id": "149ff126",
   "metadata": {},
   "outputs": [],
   "source": []
  },
  {
   "cell_type": "code",
   "execution_count": 2,
   "id": "3799b97f",
   "metadata": {
    "scrolled": true
   },
   "outputs": [],
   "source": [
    "df=spark.read.csv(\"file:///home/amit/data.csv\",header=True,inferSchema=True)"
   ]
  },
  {
   "cell_type": "code",
   "execution_count": null,
   "id": "1070d51d",
   "metadata": {},
   "outputs": [],
   "source": []
  },
  {
   "cell_type": "code",
   "execution_count": 3,
   "id": "d1bca887",
   "metadata": {},
   "outputs": [],
   "source": [
    "def split(x):\n",
    "    temp=x.split()\n",
    "    return temp[0]\n",
    "\n",
    "from pyspark.sql.functions import udf,col\n",
    "from pyspark.sql.types import StringType\n",
    "\n",
    "new_split = udf(lambda x:split(x),StringType())"
   ]
  },
  {
   "cell_type": "code",
   "execution_count": 4,
   "id": "9d019214",
   "metadata": {},
   "outputs": [],
   "source": [
    "from pyspark.sql.functions import lower, col\n",
    "df = df.withColumn(\"Date\",new_split(col(\"time\")))"
   ]
  },
  {
   "cell_type": "code",
   "execution_count": 5,
   "id": "408e3e3f",
   "metadata": {},
   "outputs": [],
   "source": [
    "df.createOrReplaceTempView(\"table\")"
   ]
  },
  {
   "cell_type": "code",
   "execution_count": 6,
   "id": "53936c4d",
   "metadata": {},
   "outputs": [],
   "source": [
    "df=spark.sql(\"SELECT Date,FIRST(open) as open,MAX(high) as high,MIN(low) as low,LAST(close) as close,MAX(volume) as volume from table GROUP BY Date ORDER BY Date\")"
   ]
  },
  {
   "cell_type": "code",
   "execution_count": 7,
   "id": "102b09c9",
   "metadata": {},
   "outputs": [
    {
     "name": "stdout",
     "output_type": "stream",
     "text": [
      "+----------+------+--------+--------+------+-------+\n",
      "|      Date|  open|    high|     low| close| volume|\n",
      "+----------+------+--------+--------+------+-------+\n",
      "|2021-12-29| 133.0|  134.21|   132.3| 132.5| 342721|\n",
      "|2021-12-30|133.83|  134.37|  133.02|133.41| 446147|\n",
      "|2021-12-31|133.69|  134.99|  133.46|133.88| 436471|\n",
      "|2022-01-03|135.77| 136.295|  133.61| 133.8| 420316|\n",
      "|2022-01-04| 137.8|  139.95|   135.9|136.41| 581760|\n",
      "|2022-01-05|138.09|   142.2|  137.25|137.96| 999384|\n",
      "|2022-01-06|135.45|138.4099|  132.51| 137.6| 932284|\n",
      "|2022-01-07|134.83|135.6618|133.5111|135.07| 638345|\n",
      "|2022-01-10|135.03|   136.2|  133.38| 135.1| 563951|\n",
      "|2022-01-11| 132.8|  133.72|  127.97| 132.9|2168991|\n",
      "|2022-01-12| 133.4|  134.47|  131.37| 132.7| 497902|\n",
      "|2022-01-13| 134.6|  136.05| 133.377|133.66| 581846|\n",
      "|2022-01-14|134.22|  135.14|   133.3|134.54| 468711|\n",
      "|2022-01-18|132.71|   134.0|  131.78|133.37| 564555|\n",
      "|2022-01-19|131.01|   133.9|  131.01|132.65| 483940|\n",
      "|2022-01-20|130.79|  132.88|   130.2|131.45| 689553|\n",
      "|2022-01-21| 129.3|  132.11|  129.06| 130.4| 692658|\n",
      "+----------+------+--------+--------+------+-------+\n",
      "\n"
     ]
    }
   ],
   "source": [
    "df.show()"
   ]
  },
  {
   "cell_type": "code",
   "execution_count": 8,
   "id": "ca4f820f",
   "metadata": {},
   "outputs": [],
   "source": [
    "from pyspark.sql.functions import lead,col\n",
    "from pyspark.sql.window import Window"
   ]
  },
  {
   "cell_type": "code",
   "execution_count": 9,
   "id": "fa018a44",
   "metadata": {},
   "outputs": [],
   "source": [
    "window=Window.orderBy(\"Date\")"
   ]
  },
  {
   "cell_type": "code",
   "execution_count": 10,
   "id": "dea415b8",
   "metadata": {},
   "outputs": [],
   "source": [
    "a= lead(col(\"open\")).over(window)"
   ]
  },
  {
   "cell_type": "code",
   "execution_count": 11,
   "id": "c00c95b9",
   "metadata": {},
   "outputs": [],
   "source": [
    "final_df = df.withColumn(\"next_open\",a).dropna(how=\"any\")"
   ]
  },
  {
   "cell_type": "code",
   "execution_count": 12,
   "id": "1e1a5515",
   "metadata": {},
   "outputs": [
    {
     "name": "stderr",
     "output_type": "stream",
     "text": [
      "2022-01-22 18:39:47,223 WARN window.WindowExec: No Partition Defined for Window operation! Moving all data to a single partition, this can cause serious performance degradation.\n",
      "2022-01-22 18:39:47,226 WARN window.WindowExec: No Partition Defined for Window operation! Moving all data to a single partition, this can cause serious performance degradation.\n",
      "2022-01-22 18:39:47,377 WARN window.WindowExec: No Partition Defined for Window operation! Moving all data to a single partition, this can cause serious performance degradation.\n",
      "2022-01-22 18:39:47,513 WARN window.WindowExec: No Partition Defined for Window operation! Moving all data to a single partition, this can cause serious performance degradation.\n",
      "2022-01-22 18:39:47,602 WARN window.WindowExec: No Partition Defined for Window operation! Moving all data to a single partition, this can cause serious performance degradation.\n"
     ]
    },
    {
     "name": "stdout",
     "output_type": "stream",
     "text": [
      "+----------+------+--------+--------+------+-------+---------+\n",
      "|      Date|  open|    high|     low| close| volume|next_open|\n",
      "+----------+------+--------+--------+------+-------+---------+\n",
      "|2021-12-29| 133.0|  134.21|   132.3| 132.5| 342721|   133.83|\n",
      "|2021-12-30|133.83|  134.37|  133.02|133.41| 446147|   133.69|\n",
      "|2021-12-31|133.69|  134.99|  133.46|133.88| 436471|   135.77|\n",
      "|2022-01-03|135.77| 136.295|  133.61| 133.8| 420316|    137.8|\n",
      "|2022-01-04| 137.8|  139.95|   135.9|136.41| 581760|   138.09|\n",
      "|2022-01-05|138.09|   142.2|  137.25|137.96| 999384|   135.45|\n",
      "|2022-01-06|135.45|138.4099|  132.51| 137.6| 932284|   134.83|\n",
      "|2022-01-07|134.83|135.6618|133.5111|135.07| 638345|   135.03|\n",
      "|2022-01-10|135.03|   136.2|  133.38| 135.1| 563951|    132.8|\n",
      "|2022-01-11| 132.8|  133.72|  127.97| 132.9|2168991|    133.4|\n",
      "|2022-01-12| 133.4|  134.47|  131.37| 132.7| 497902|    134.6|\n",
      "|2022-01-13| 134.6|  136.05| 133.377|133.66| 581846|   134.22|\n",
      "|2022-01-14|134.22|  135.14|   133.3|134.54| 468711|   132.71|\n",
      "|2022-01-18|132.71|   134.0|  131.78|133.37| 564555|   131.01|\n",
      "|2022-01-19|131.01|   133.9|  131.01|132.65| 483940|   130.79|\n",
      "|2022-01-20|130.79|  132.88|   130.2|131.45| 689553|    129.3|\n",
      "+----------+------+--------+--------+------+-------+---------+\n",
      "\n"
     ]
    }
   ],
   "source": [
    "final_df.show()"
   ]
  },
  {
   "cell_type": "code",
   "execution_count": 21,
   "id": "a2c88325",
   "metadata": {},
   "outputs": [],
   "source": [
    "import numpy as np\n",
    "import pandas as pd                   \n",
    "import matplotlib.pyplot as plt       \n",
    "from pyspark.ml.feature import VectorAssembler\n",
    "from pyspark.ml.regression import LinearRegression"
   ]
  },
  {
   "cell_type": "code",
   "execution_count": 15,
   "id": "9bce833b",
   "metadata": {},
   "outputs": [],
   "source": [
    "feature = VectorAssembler(inputCols=['open','high','low','close','volume'],outputCol='features')"
   ]
  },
  {
   "cell_type": "code",
   "execution_count": 16,
   "id": "ddc36828",
   "metadata": {},
   "outputs": [],
   "source": [
    "final_data  = feature.transform(final_df)"
   ]
  },
  {
   "cell_type": "code",
   "execution_count": null,
   "id": "78660bb6",
   "metadata": {
    "scrolled": true
   },
   "outputs": [],
   "source": [
    "final_data.show()"
   ]
  },
  {
   "cell_type": "code",
   "execution_count": 33,
   "id": "b0bd0d86",
   "metadata": {},
   "outputs": [],
   "source": [
    "final_data = final_data.select('features','next_open')"
   ]
  },
  {
   "cell_type": "code",
   "execution_count": 61,
   "id": "d0ad7f84",
   "metadata": {},
   "outputs": [],
   "source": [
    "train,test = final_data.randomSplit([0.6,0.4])"
   ]
  },
  {
   "cell_type": "code",
   "execution_count": null,
   "id": "d04898f7",
   "metadata": {},
   "outputs": [],
   "source": [
    "regressor = LinearRegression(featuresCol = 'features', labelCol = 'next_open')\n",
    "regressor = regressor.fit(train)"
   ]
  },
  {
   "cell_type": "code",
   "execution_count": 63,
   "id": "f0433981",
   "metadata": {},
   "outputs": [
    {
     "name": "stdout",
     "output_type": "stream",
     "text": [
      "+--------------------+---------+------------------+\n",
      "|            features|next_open|        prediction|\n",
      "+--------------------+---------+------------------+\n",
      "|[131.01,133.9,131...|   130.79|129.65885819000454|\n",
      "|[132.71,134.0,131...|   131.01|132.23088710824265|\n",
      "|[133.0,134.21,132...|   133.83|  133.247083909167|\n",
      "|[133.83,134.37,13...|   133.69| 134.0594596608663|\n",
      "|[134.6,136.05,133...|   134.22|135.12616379701643|\n",
      "|[138.09,142.2,137...|   135.45|137.61432364976457|\n",
      "+--------------------+---------+------------------+\n",
      "\n"
     ]
    },
    {
     "name": "stderr",
     "output_type": "stream",
     "text": [
      "2022-01-22 18:48:22,739 WARN window.WindowExec: No Partition Defined for Window operation! Moving all data to a single partition, this can cause serious performance degradation.\n",
      "2022-01-22 18:48:22,739 WARN window.WindowExec: No Partition Defined for Window operation! Moving all data to a single partition, this can cause serious performance degradation.\n",
      "2022-01-22 18:48:22,822 WARN window.WindowExec: No Partition Defined for Window operation! Moving all data to a single partition, this can cause serious performance degradation.\n",
      "2022-01-22 18:48:22,864 WARN window.WindowExec: No Partition Defined for Window operation! Moving all data to a single partition, this can cause serious performance degradation.\n",
      "2022-01-22 18:48:22,881 WARN window.WindowExec: No Partition Defined for Window operation! Moving all data to a single partition, this can cause serious performance degradation.\n"
     ]
    }
   ],
   "source": [
    "predictions = regressor.transform(test)\n",
    "predictions.show()"
   ]
  },
  {
   "cell_type": "code",
   "execution_count": 64,
   "id": "eca3b677",
   "metadata": {},
   "outputs": [
    {
     "data": {
      "text/plain": [
       "DenseVector([1.8831, -0.0843, -0.1883, -0.6513, -0.0])"
      ]
     },
     "execution_count": 64,
     "metadata": {},
     "output_type": "execute_result"
    }
   ],
   "source": [
    "regressor.coefficients"
   ]
  },
  {
   "cell_type": "code",
   "execution_count": 65,
   "id": "0cee1536",
   "metadata": {},
   "outputs": [
    {
     "data": {
      "text/plain": [
       "5.336314294318663"
      ]
     },
     "execution_count": 65,
     "metadata": {},
     "output_type": "execute_result"
    }
   ],
   "source": [
    "regressor.intercept"
   ]
  },
  {
   "cell_type": "code",
   "execution_count": null,
   "id": "529d1c51",
   "metadata": {},
   "outputs": [],
   "source": [
    "results=regressor.evaluate(test)"
   ]
  },
  {
   "cell_type": "code",
   "execution_count": 75,
   "id": "ec282eb5",
   "metadata": {
    "scrolled": false
   },
   "outputs": [
    {
     "name": "stdout",
     "output_type": "stream",
     "text": [
      "Root Mean Squared Error (RMSE) on test data = 1.20774\n"
     ]
    }
   ],
   "source": [
    "print(\"Root Mean Squared Error (RMSE) on test data = %g\" % results.rootMeanSquaredError)"
   ]
  },
  {
   "cell_type": "code",
   "execution_count": null,
   "id": "3d842569",
   "metadata": {},
   "outputs": [],
   "source": [
    "panda_df = predictions.toPandas()"
   ]
  },
  {
   "cell_type": "code",
   "execution_count": 76,
   "id": "e1ab00de",
   "metadata": {},
   "outputs": [
    {
     "data": {
      "text/plain": [
       "<matplotlib.legend.Legend at 0x7fdebea36cd0>"
      ]
     },
     "execution_count": 76,
     "metadata": {},
     "output_type": "execute_result"
    },
    {
     "data": {
      "image/png": "[encoded data removed]",
      "text/plain": [
       "<Figure size 432x288 with 1 Axes>"
      ]
     },
     "metadata": {
      "needs_background": "light"
     },
     "output_type": "display_data"
    }
   ],
   "source": [
    "plt.plot(panda_df['prediction'])\n",
    "plt.plot(panda_df['next_open'])\n",
    "plt.legend(['Prediction','Next Open'])"
   ]
  },
  {
   "cell_type": "code",
   "execution_count": null,
   "id": "87395f6b",
   "metadata": {},
   "outputs": [],
   "source": [
    "predictions.select(\"next_open\",\"prediction\").write.format(\"json\").save(\"file:///home/amit/output\")"
   ]
  },
  {
   "cell_type": "code",
   "execution_count": null,
   "id": "75c6bc78",
   "metadata": {},
   "outputs": [],
   "source": []
  },
  {
   "cell_type": "code",
   "execution_count": null,
   "id": "384c3ba4",
   "metadata": {},
   "outputs": [],
   "source": []
  }
 ],
 "metadata": {
  "kernelspec": {
   "display_name": "Python 3 (ipykernel)",
   "language": "python",
   "name": "python3"
  },
  "language_info": {
   "codemirror_mode": {
    "name": "ipython",
    "version": 3
   },
   "file_extension": ".py",
   "mimetype": "text/x-python",
   "name": "python",
   "nbconvert_exporter": "python",
   "pygments_lexer": "ipython3",
   "version": "3.8.10"
  }
 },
 "nbformat": 4,
 "nbformat_minor": 5
}
